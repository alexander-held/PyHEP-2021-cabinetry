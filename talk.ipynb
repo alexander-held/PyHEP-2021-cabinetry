{
 "cells": [
  {
   "cell_type": "markdown",
   "source": [
    "![cabinetry logo](_static/cabinetry_logo_small.png)\n",
    "Notebook talk for PyHEP 2021. Currently work in progress."
   ],
   "metadata": {}
  },
  {
   "cell_type": "code",
   "execution_count": null,
   "source": [
    "import cabinetry\n",
    "cabinetry.set_logging()"
   ],
   "outputs": [],
   "metadata": {}
  }
 ],
 "metadata": {
  "kernelspec": {
   "display_name": "pyhf",
   "language": "python",
   "name": "pyhf"
  },
  "language_info": {
   "codemirror_mode": {
    "name": "ipython",
    "version": 3
   },
   "file_extension": ".py",
   "mimetype": "text/x-python",
   "name": "python",
   "nbconvert_exporter": "python",
   "pygments_lexer": "ipython3",
   "version": "3.8.10"
  }
 },
 "nbformat": 4,
 "nbformat_minor": 5
}